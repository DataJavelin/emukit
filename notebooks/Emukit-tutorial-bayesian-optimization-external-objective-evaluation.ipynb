{
 "cells": [
  {
   "cell_type": "markdown",
   "metadata": {},
   "source": [
    "# External objective function evaluation in Bayesian optimization with Emukit"
   ]
  },
  {
   "cell_type": "markdown",
   "metadata": {},
   "source": [
    "## Overview"
   ]
  },
  {
   "cell_type": "markdown",
   "metadata": {},
   "source": [
    "The Bayesian optimization component of Emukit allows for objective functions to be evaluated externally. If users opt for this approach, they can use Emukit to suggest the next point for evaluation, and then evaluate the objective function themselves as well as decide on the stopping criteria of the evaluation loop. This notebook shall demonstrate how to carry out this procedure. The main benefit of using Emukit in this manner is that you can externally manage issues such as parallelizing the computation of the objective function, which is convenient in many scenarios."
   ]
  },
  {
   "cell_type": "code",
   "execution_count": 1,
   "metadata": {},
   "outputs": [
    {
     "name": "stdout",
     "output_type": "stream",
     "text": [
      "Populating the interactive namespace from numpy and matplotlib\n"
     ]
    }
   ],
   "source": [
    "### General imports\n",
    "%matplotlib inline\n",
    "import numpy as np\n",
    "import matplotlib.pyplot as plt\n",
    "from matplotlib import colors as mcolors\n",
    "%pylab inline\n",
    "\n",
    "### --- Figure config\n",
    "colors = dict(mcolors.BASE_COLORS, **mcolors.CSS4_COLORS)\n",
    "LEGEND_SIZE = 15\n",
    "TITLE_SIZE = 25\n",
    "AXIS_SIZE = 15"
   ]
  },
  {
   "cell_type": "markdown",
   "metadata": {},
   "source": [
    "### Navigation\n",
    "\n",
    "1. [Handling the loop yourself](#1.-Handling-the-loop-yourself)\n",
    "\n",
    "2. [Comparing with the high level API](#2.-Comparing-with-the-high-level-API)"
   ]
  },
  {
   "cell_type": "markdown",
   "metadata": {},
   "source": [
    "## 1. Handling the loop yourself"
   ]
  },
  {
   "cell_type": "markdown",
   "metadata": {},
   "source": [
    "For the purposes of this notebook we are going to use one of the predefined objective functions that come with GPyOpt. However, the key thing to realize is that the function could be anything (e.g., the results of a physical experiment). As long as users are able to externally evaluate the suggested points and provide GPyOpt with the results, the library has options for setting the objective function's origin."
   ]
  },
  {
   "cell_type": "code",
   "execution_count": 2,
   "metadata": {},
   "outputs": [],
   "source": [
    "from emukit.test_functions import forrester_function\n",
    "from emukit.core.loop import UserFunctionWrapper\n",
    "\n",
    "target_function, space = forrester_function()"
   ]
  },
  {
   "cell_type": "markdown",
   "metadata": {},
   "source": [
    "First we are going to run the optimization loop outside of Emukit, and only use the library to get the next point at which to evaluate our function.\n",
    "\n",
    "There are two things to pay attention to when creating the main optimization object:\n",
    "\n",
    "* Since we recreate the object anew for each iteration, we need to pass data about all previous iterations to it.\n",
    "\n",
    "* The model gets optimized from the scratch in every iteration but the parameters of the model could be saved and used to update the state (TODO).\n",
    "\n",
    "We start with three initial points at which we evaluate the objective function."
   ]
  },
  {
   "cell_type": "code",
   "execution_count": 3,
   "metadata": {},
   "outputs": [],
   "source": [
    "X = np.array([[0.1],[0.6],[0.9]])\n",
    "Y = target_function(X)"
   ]
  },
  {
   "cell_type": "markdown",
   "metadata": {},
   "source": [
    "And we run the loop externally."
   ]
  },
  {
   "cell_type": "code",
   "execution_count": 4,
   "metadata": {},
   "outputs": [],
   "source": [
    "from emukit.examples.gp_bayesian_optimization.single_objective_bayesian_optimization import GPBayesianOptimization\n",
    "from emukit.core.loop import UserFunctionResult\n",
    "\n",
    "num_iterations = 10\n",
    "\n",
    "bo = GPBayesianOptimization(variables_list=space.parameters, X=X, Y=Y)\n",
    "results = None\n",
    "\n",
    "for _ in range(num_iterations):\n",
    "    X_new = bo.get_next_points(results)\n",
    "    Y_new = target_function(X_new)\n",
    "    results = [UserFunctionResult(X_new[0], Y_new[0])]\n",
    "\n",
    "X = bo.loop_state.X\n",
    "Y = bo.loop_state.Y"
   ]
  },
  {
   "cell_type": "markdown",
   "metadata": {},
   "source": [
    "Let's visualize the results. The size of the marker denotes the order in which the point was evaluated - the bigger the marker the later was the evaluation."
   ]
  },
  {
   "cell_type": "code",
   "execution_count": 5,
   "metadata": {},
   "outputs": [
    {
     "data": {
      "image/png": "[encoded data removed]",
      "text/plain": [
       "<Figure size 432x288 with 1 Axes>"
      ]
     },
     "metadata": {},
     "output_type": "display_data"
    }
   ],
   "source": [
    "x = np.arange(0.0, 1.0, 0.01)\n",
    "y = target_function(x)\n",
    "\n",
    "plt.figure()\n",
    "plt.plot(x, y)\n",
    "for i, (xs, ys) in enumerate(zip(X, Y)):\n",
    "    plt.plot(xs, ys, 'ro', markersize=10 + 10 * (i+1)/len(X))"
   ]
  },
  {
   "cell_type": "code",
   "execution_count": 6,
   "metadata": {},
   "outputs": [
    {
     "data": {
      "text/plain": [
       "array([[0.1       ],\n",
       "       [0.6       ],\n",
       "       [0.9       ],\n",
       "       [0.1450808 ],\n",
       "       [0.37745394],\n",
       "       [0.22254292],\n",
       "       [0.5035044 ],\n",
       "       [0.        ],\n",
       "       [0.68825547],\n",
       "       [0.72068176],\n",
       "       [0.74376258],\n",
       "       [0.75725513]])"
      ]
     },
     "execution_count": 6,
     "metadata": {},
     "output_type": "execute_result"
    }
   ],
   "source": [
    "X"
   ]
  },
  {
   "cell_type": "markdown",
   "metadata": {},
   "source": [
    "## 2. Comparing with the high level API"
   ]
  },
  {
   "cell_type": "markdown",
   "metadata": {},
   "source": [
    "To compare the results, let's now execute the whole loop with Emukit."
   ]
  },
  {
   "cell_type": "code",
   "execution_count": 7,
   "metadata": {},
   "outputs": [],
   "source": [
    "X = np.array([[0.1],[0.6],[0.9]])\n",
    "Y = target_function(X)\n",
    "\n",
    "bo_loop = GPBayesianOptimization(variables_list=space.parameters, X=X, Y=Y)\n",
    "bo_loop.run_optimization(target_function, num_iterations)"
   ]
  },
  {
   "cell_type": "markdown",
   "metadata": {},
   "source": [
    "Now let's print the results of this optimization and compare it to the previous external evaluation run. As before, the size of the marker corresponds to its evaluation order."
   ]
  },
  {
   "cell_type": "code",
   "execution_count": 8,
   "metadata": {},
   "outputs": [
    {
     "data": {
      "image/png": "[encoded data removed]",
      "text/plain": [
       "<Figure size 432x288 with 1 Axes>"
      ]
     },
     "metadata": {},
     "output_type": "display_data"
    }
   ],
   "source": [
    "x = np.arange(0.0, 1.0, 0.01)\n",
    "y = target_function(x)\n",
    "\n",
    "plt.figure()\n",
    "plt.plot(x, y)\n",
    "for i, (xs, ys) in enumerate(zip(bo_loop.model.model.X, bo_loop.model.model.Y)):\n",
    "    plt.plot(xs, ys, 'ro', markersize=10 + 10 * (i+1)/len(bo_loop.model.model.X))"
   ]
  },
  {
   "cell_type": "markdown",
   "metadata": {},
   "source": [
    "It can be observed that we obtain the same result as before but now the objective function is handled internally."
   ]
  }
 ],
 "metadata": {
  "anaconda-cloud": {},
  "kernelspec": {
   "display_name": "Python [default]",
   "language": "python",
   "name": "python3"
  },
  "language_info": {
   "codemirror_mode": {
    "name": "ipython",
    "version": 3
   },
   "file_extension": ".py",
   "mimetype": "text/x-python",
   "name": "python",
   "nbconvert_exporter": "python",
   "pygments_lexer": "ipython3",
   "version": "3.6.6"
  }
 },
 "nbformat": 4,
 "nbformat_minor": 2
}
